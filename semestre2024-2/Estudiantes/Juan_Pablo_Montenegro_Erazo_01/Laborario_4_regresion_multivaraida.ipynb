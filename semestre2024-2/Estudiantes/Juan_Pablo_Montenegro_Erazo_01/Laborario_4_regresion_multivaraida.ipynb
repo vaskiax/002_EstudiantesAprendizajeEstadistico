{
  "cells": [
    {
      "cell_type": "markdown",
      "metadata": {
        "id": "yqpPqogm44sy"
      },
      "source": [
        "<a href=\"https://colab.research.google.com/github/CienciaDatosUdea/002_EstudiantesAprendizajeEstadistico/blob/main/semestre2024-2/Laboratorios/Laboratorio_04_reg_multivariada.ipynb\" target=\"_parent\"><img src=\"https://colab.research.google.com/assets/colab-badge.svg\" alt=\"Open In Colab\"/></a>\n"
      ]
    },
    {
      "cell_type": "markdown",
      "metadata": {
        "id": "qiRIfl4W2cLM"
      },
      "source": [
        "# Regresion multivariada\n",
        "\n",
        "Supongamos que tenemos un conjunto de caracteristicas $X = X_1,X_2...X_j...X_n$ para realizar una  predicción $y$ con valores esperados $\\hat{y}$.  \n",
        "\n",
        "Cada X, puede ser escrito como:\n",
        " $X_1 = x_1^{(1)},x_1^{(2)}, x_1^{(3)}...x_1^{(m)}$,\n",
        "\n",
        " $X_2 = x_2^{(1)},x_2^{(2)}, x_2^{(3)}...x_2^{(m)}$,\n",
        "\n",
        " .\n",
        "\n",
        " .\n",
        "\n",
        " .\n",
        "\n",
        " $X_n = x_n^{(1)},x_n^{(2)}, x_n^{(3)}...x_n^{(m)}$.\n",
        "\n",
        "\n",
        "Siendo n el número de caracteristicas y m el número de datos de datos,\n",
        "$\\hat{y} = \\hat{y}_1^{(1)}, \\hat{y}_1^{(2)}...\\hat{y}_1^{(m)} $, el conjunto de datos etiquetados  y $y = y_1^{(1)}, y_1^{(2)}...y_1^{(m)} $ los valores predichos por un modelo\n",
        "\n",
        "\n",
        "\n",
        "\n",
        "Lo anterior puede ser resumido  como:\n",
        "\n",
        "\n",
        "\n",
        "|Training|$\\hat{y}$      | X_1  | X_2  |  .  | .|. |. | X_n|\n",
        "|--------|-------|------|------|-----|--|--|--|----|\n",
        "|1|$\\hat{y}_1^{1}$ | $x_1^{1}$|$x_2^{1}$| .  | .|. |. | $x_n^{1}$|\n",
        "|2|$\\hat{y}_1^{2}$ | $x_1^{2}$|$x_2^{2}$| .  | .|. |. | $x_n^{2}$|\n",
        "|.|.         | .        |.| .  | .|. |. | |\n",
        "|.|.         | .        |.| .  | .|. |. | |\n",
        "|.|.         | .        |.| .  | .|. |. | |\n",
        "|m|$\\hat{y}_1^{m}$ | $x_1^{m}$  |$x_2^{m}$| .  | .|. |. | $x_n^{m}$|\n",
        "\n",
        "\n",
        "y el el modelo puede ser ajustado como sigue:\n",
        "\n",
        "Para un solo conjunto de datos de entrenamiento tentemos que:\n",
        "\n",
        "$y = h(\\theta_0,\\theta_1,\\theta_2,...,\\theta_n ) = \\theta_0 + \\theta_1 x_1+\\theta_2 x_2 + \\theta_3 x_3 +...+ \\theta_n x_n $.\n",
        "\n",
        "\\begin{equation}\n",
        "h_{\\Theta}(x) = [\\theta_0,\\theta_1,...,\\theta_n ]\\begin{bmatrix}\n",
        "1^{(1)}\\\\\n",
        "x_1^{(1)}\\\\\n",
        "x_2^{(1)}\\\\\n",
        ".\\\\\n",
        ".\\\\\n",
        ".\\\\\n",
        "x_n^{(1)}\\\\\n",
        "\\end{bmatrix} = \\Theta^T X^{(1)}\n",
        "\\end{equation}\n",
        "\n",
        "\n",
        "\n",
        "Para todo el conjunto de datos, tenemos que:\n",
        "\n",
        "Sea $\\Theta^T = [\\theta_0,\\theta_1,\\theta_2,...,\\theta_n]$ una matrix $1 \\times (n+1)$ y  \n",
        "\n",
        "\n",
        "\\begin{equation}\n",
        "X =\n",
        "\\begin{bmatrix}\n",
        "1& 1 & 1 & .&.&.&1\\\\\n",
        "x_1^{(1)}&x_1^{(2)} & x_1^{(3)} & .&.&.&x_1^{(m)}\\\\\n",
        ".&. & . &.&.&.& .\\\\\n",
        ".&. & . & .&.&.&.\\\\\n",
        ".&. & . & .&.&.&.\\\\\n",
        "x_n^{(1)}&x_n^{(2)} & x^{(3)} & .&.&.&x_n^{(m)}\\\\\n",
        "\\end{bmatrix}_{(n+1) \\times m}\n",
        "\\end{equation}\n",
        "\n",
        "\n",
        "\n",
        "\n",
        "luego $h = \\Theta^{T} X $ con dimension $1\\times m$\n",
        "\n",
        "\n",
        "\n",
        "\n",
        "La anterior ecuación, es un hiperplano en $\\mathbb{R}^n$. Notese que en caso de tener una sola característica, la ecuación puede ser análizada según lo visto en la sesión de regresion lineal.\n",
        "\n",
        "\n",
        "Para la optimización, vamos a definir la función de coste **$J(\\theta_1,\\theta_2,\\theta_3, ...,\\theta_n )$** , como la función  asociada a la minima distancia entre dos puntos, según la metrica euclidiana.\n",
        "\n",
        "- Metrica Eculidiana\n",
        "\n",
        "\\begin{equation}\n",
        "J(\\theta_1,\\theta_2,\\theta_3, ...,\\theta_n )=\\frac{1}{2m} \\sum_{i=1}^m ( h_{\\Theta} (X)-\\hat{y}^{(i)})^2 =\\frac{1}{2m} \\sum_{i = 1}^m (\\Theta^{T} X - \\hat{y}^{(i)})^2\n",
        "\\end{equation}\n",
        "\n",
        "Otras métricas pueden ser definidas como sigue en la siguiente referencia.  [Metricas](https://jmlb.github.io/flashcards/2018/04/21/list_cost_functions_fo_neuralnets/).\n",
        "\n",
        "Nuestro objetivo será encontrar los valores mínimos\n",
        "$\\Theta = \\theta_0,\\theta_1,\\theta_2,...,\\theta_n$ que minimizan el error, respecto a los valores etiquetados y esperados $\\hat{y}$\n",
        "\n",
        "\n",
        "Para encontrar $\\Theta$ opmitimo, se necesita  minimizar la función de coste, que permite obtener los valores más cercanos,  esta minimización podrá ser realizada a través de diferentes metodos, el más conocido es el gradiente descendente.\n",
        "\n",
        "\n",
        "\n",
        "\n",
        "\n"
      ]
    },
    {
      "cell_type": "markdown",
      "metadata": {
        "id": "E5ApulK23HfL"
      },
      "source": [
        "\n",
        "## Gradiente descendente\n",
        "\n",
        "Consideremos la función de coste sin realizar el promedio  de funcion de coste:\n",
        "\\begin{equation}\n",
        "\\Lambda^T =\n",
        "\\begin{bmatrix}\n",
        "(\\theta_0 1 + \\theta_1 x_1^1+\\theta_2 x_2^2 + \\theta_3 x_3^3 +...+ \\theta_n x_n^n - \\hat{y}^{1})^2 \\\\\n",
        "(\\theta_0 1+ \\theta_1 x_1^1+\\theta_2 x_2^2 + \\theta_3 x_3^3 +...+ \\theta_n x_n^n - \\hat{y}^{2})^2\\\\\n",
        ".\\\\\n",
        ".\\\\\n",
        ".\\\\\n",
        "(\\theta_0 1 + \\theta_1 x_1^m+\\theta_2 x_2^m + \\theta_3 x_3^m +...+ \\theta_n x_n^m - \\hat{y}^{m})^2\\\\\n",
        "\\end{bmatrix}\n",
        "\\end{equation}\n",
        "\n",
        "$\\Lambda= [\\Lambda_1,\\Lambda_2, ...,\\Lambda_m]$\n",
        "\n",
        "$J = \\frac{1}{2m} \\sum_{i}^m \\Lambda_i $\n",
        "\n",
        "El gradiente descente, puede ser escrito como:\n",
        "\n",
        "\\begin{equation}\n",
        "\\Delta \\vec{\\Theta} =  - \\alpha \\nabla J(\\theta_0, \\theta_1,...,\\theta_n)\n",
        "\\end{equation}\n",
        "\n",
        "escogiendo el valor j-esimo tenemos que:\n",
        "\n",
        "\\begin{equation}\n",
        "\\theta_j :=  - \\alpha \\frac{\\partial J(\\theta_0, \\theta_1,...\\theta_j...,\\theta_n)}{\\partial \\theta_j}\n",
        "\\end{equation}\n",
        "\n",
        "Aplicando lo anterior a a funcion de coste asociada a la metrica ecuclidiana, tenemos que:\n",
        "\n",
        "Para $j = 0$,\n",
        "\n",
        "\n",
        "\\begin{equation}\n",
        "\\theta_0 :=  - \\alpha \\frac{\\partial J(\\theta_0, \\theta_1,...\\theta_j...,\\theta_n)}{\\partial \\theta_0} = \\frac{1}{m}\\alpha \\sum_{i=1}^m (\\theta_j X_{ji} - \\hat{y}^{(i)}) 1\n",
        "\\end{equation}\n",
        "\n",
        "\n",
        "\n",
        "Para $0<j<n $\n",
        "\n",
        "\\begin{equation}\n",
        "\\theta_j :=  - \\alpha \\frac{\\partial J(\\theta_0, \\theta_1,...\\theta_j...,\\theta_n)}{\\partial \\theta_j} = \\frac{1}{m} \\alpha\\sum_{i=1}^m (\\theta_{j} X_{ji} - \\hat{y}^{(i)}) X_j\n",
        "\\end{equation}\n",
        "\n",
        "donde X_j es el vector de entrenamiento j-esimo.\n",
        "\n",
        "Lo  anterior puede ser generalizado como siguem, teniendo presente que $X_0 = \\vec{1}$\n",
        "\n",
        "\n",
        "Para $0\\leq j<n$,\n",
        "\n",
        "\\begin{equation}\n",
        "\\theta_j :=  - \\alpha \\frac{\\partial J(\\theta_0, \\theta_1,...\\theta_j...,\\theta_n)}{\\partial \\theta_j} = \\frac{1}{m} \\alpha\\sum_{i=1}^m (\\theta_j X_{ji} - \\hat{y}^{(i)}) X_j\n",
        "\\end{equation}\n",
        "\n",
        "\n",
        "\n",
        "# Vectorizando el grandiente descendete, tenemos que:\n",
        "\\begin{equation}\n",
        "\\nabla J = \\Lambda^T X\n",
        "\\end{equation}\n",
        "\n",
        "Luego:\n",
        "\n",
        "\\begin{equation}\n",
        "\\Theta=\\Theta-\\alpha \\nabla J\n",
        "\\end{equation}\n"
      ]
    },
    {
      "cell_type": "markdown",
      "metadata": {
        "id": "7eavd6K24VDP"
      },
      "source": [
        "# Laboratorio 05\n",
        "Objetivo: Programar una regresión multivariada\n",
        "\n",
        "\n",
        "1. Para simular un conjunto de características $x_1$ , $x_2$,..., $x_n$ trabajaremos en la primera parte con dos características de datos aleatorios que presentan un plano y mostraremos que los párametros optimizados se corresponden con el valor esperado.\n",
        "\n",
        "- Definir la ecuación  $y = 2.1*x_1 - 3.1*x_2$, y generar números aleatorios que pertenecen al plano.\n",
        "\n",
        "- Realizar un diagrama 3D de los puntos generados aleatoriamente.\n",
        "\n",
        "\n",
        "Nuestro objetivo será encontrar los valores $\\theta_0 = 0, \\theta_1=2.1, \\theta_1=3.1$ que mejor ajustar el plano, empleando cálculos vectorizados.\n",
        "\n",
        "2. Inicializar conjunto de parámetros $\\Theta$ de manera aleatoria.\n",
        "3. Construir la matrix X con dimensiones $(n+1, m)$, m es el numero de datos de entrenamiento y (n) el número de caracteristicas.\n",
        "4. Calcular la función de coste(revise cuidosamente las dimensiones de cada matriz):\n",
        "\n",
        "  - $h = \\Theta^{T} X $\n",
        "  - $\\Lambda= (h -Y) $\n",
        "  - $\\Lambda*= (h -Y)^2 $\n",
        "  - $\\Lambda= [\\Lambda_1,\\Lambda_2, ...,\\Lambda_m]$\n",
        "  - $J = \\frac{1}{2m} \\sum_{i}^m \\Lambda_i $\n",
        "\n",
        "5. Aplicar el gradiente descendente:\n",
        "  - Encontrar el gradiente.\n",
        "    $\\nabla J$ = \\Lambda X.T\n",
        "  \n",
        "  - Actualizar los nuevos parametros:\n",
        "    $\\Theta_{n+1}=\\Theta_{n}-\\alpha\\nabla J$\n",
        "\n",
        "\n",
        "6. Iterar para encontrar los valores $\\Theta$ que se ajustan el plano.\n",
        "\n",
        "\n",
        "\n",
        "\n",
        "\n",
        "\n"
      ]
    },
    {
      "cell_type": "markdown",
      "source": [
        "# Juan Pablo Montenegro Erazo - CC1007778301"
      ],
      "metadata": {
        "id": "l6PM3W6IsIvV"
      }
    },
    {
      "cell_type": "code",
      "source": [
        "# 1. Definir la ecuación  y=2.1∗x1−3.1∗x2 , y generar números aleatorios que pertenecen al plano.\n",
        "\n",
        "import numpy as np\n",
        "import matplotlib.pyplot as plt\n",
        "\n",
        "x_1 = np.random.uniform(-10, 10, 100)  # 100 puntos aleatorios entre -10 y 10\n",
        "x_2 = np.random.uniform(-10, 10, 100)\n",
        "\n",
        "X1, X2 = np.meshgrid(np.linspace(-10, 10, 100), np.linspace(-10, 10, 100))\n",
        "\n",
        "y = 2.1 * x_1 - 3.1 * x_2\n",
        "plano = 2.1 * X1 - 3.1 * X2\n",
        "\n",
        "fig = plt.figure()\n",
        "ax = fig.add_subplot(111, projection='3d')\n",
        "ax.scatter(x_1, x_2, y, c='b', marker='o')\n",
        "ax.plot_surface(X1, X2, plano, color='r', alpha=0.5)\n",
        "\n",
        "ax.view_init(elev=15, azim=180)  # Cambiamos el ángulo de vista\n",
        "\n",
        "ax.set_xlabel('X_1')\n",
        "ax.set_ylabel('X_2')\n",
        "ax.set_zlabel('Y')\n",
        "\n",
        "plt.show()"
      ],
      "metadata": {
        "colab": {
          "base_uri": "https://localhost:8080/",
          "height": 406
        },
        "id": "z_rCMlSWg0ko",
        "outputId": "4290406b-0909-4953-87e8-14134c14d95d"
      },
      "execution_count": 31,
      "outputs": [
        {
          "output_type": "display_data",
          "data": {
            "text/plain": [
              "<Figure size 640x480 with 1 Axes>"
            ],
            "image/png": "[encoded data removed]"
          },
          "metadata": {}
        }
      ]
    },
    {
      "cell_type": "code",
      "source": [
        "# 2. Inicializar conjunto de parámetros  Θ  de manera aleatoria.\n",
        "\n",
        "Theta = np.random.rand(3)\n",
        "Theta"
      ],
      "metadata": {
        "colab": {
          "base_uri": "https://localhost:8080/"
        },
        "id": "_awEbgvziCFV",
        "outputId": "232b1e30-b6da-4f50-90a3-39178bacc467"
      },
      "execution_count": 32,
      "outputs": [
        {
          "output_type": "execute_result",
          "data": {
            "text/plain": [
              "array([0.79779518, 0.96361787, 0.71070343])"
            ]
          },
          "metadata": {},
          "execution_count": 32
        }
      ]
    },
    {
      "cell_type": "code",
      "source": [
        "# 3. Construir la matrix X con dimensiones  (n+1,m) , m es el numero de datos de entrenamiento y (n) el número de\n",
        "# caracteristicas.\n",
        "\n",
        "def matriz_datos(matriz_X): # Coloca una fila de unos al inicio de la matriz_X\n",
        "\n",
        "    unos = np.ones((1, matriz_X.shape[1]))  # Crea una fila de unos con la misma cantidad de columnas que matriz_X\n",
        "    matriz_X = np.vstack([unos, matriz_X])  # Apila verticalmente la fila de unos y matriz_X\n",
        "\n",
        "    return matriz_X\n",
        "\n",
        "\n",
        "matriz_X = np.vstack([x_1, x_2])\n",
        "matriz_X = matriz_datos(matriz_X)\n",
        "matriz_X"
      ],
      "metadata": {
        "colab": {
          "base_uri": "https://localhost:8080/"
        },
        "id": "EJikXeH4iV8P",
        "outputId": "c8abbd7d-ef3c-4ff4-e759-93f7df09d794"
      },
      "execution_count": 33,
      "outputs": [
        {
          "output_type": "execute_result",
          "data": {
            "text/plain": [
              "array([[ 1.        ,  1.        ,  1.        ,  1.        ,  1.        ,\n",
              "         1.        ,  1.        ,  1.        ,  1.        ,  1.        ,\n",
              "         1.        ,  1.        ,  1.        ,  1.        ,  1.        ,\n",
              "         1.        ,  1.        ,  1.        ,  1.        ,  1.        ,\n",
              "         1.        ,  1.        ,  1.        ,  1.        ,  1.        ,\n",
              "         1.        ,  1.        ,  1.        ,  1.        ,  1.        ,\n",
              "         1.        ,  1.        ,  1.        ,  1.        ,  1.        ,\n",
              "         1.        ,  1.        ,  1.        ,  1.        ,  1.        ,\n",
              "         1.        ,  1.        ,  1.        ,  1.        ,  1.        ,\n",
              "         1.        ,  1.        ,  1.        ,  1.        ,  1.        ,\n",
              "         1.        ,  1.        ,  1.        ,  1.        ,  1.        ,\n",
              "         1.        ,  1.        ,  1.        ,  1.        ,  1.        ,\n",
              "         1.        ,  1.        ,  1.        ,  1.        ,  1.        ,\n",
              "         1.        ,  1.        ,  1.        ,  1.        ,  1.        ,\n",
              "         1.        ,  1.        ,  1.        ,  1.        ,  1.        ,\n",
              "         1.        ,  1.        ,  1.        ,  1.        ,  1.        ,\n",
              "         1.        ,  1.        ,  1.        ,  1.        ,  1.        ,\n",
              "         1.        ,  1.        ,  1.        ,  1.        ,  1.        ,\n",
              "         1.        ,  1.        ,  1.        ,  1.        ,  1.        ,\n",
              "         1.        ,  1.        ,  1.        ,  1.        ,  1.        ],\n",
              "       [-9.2300779 , -4.78873818, -2.87655428,  6.66604787, -6.40392917,\n",
              "        -3.00539292,  8.50217566,  3.01153468,  2.20622776,  9.14746457,\n",
              "         1.502426  , -9.88561875, -7.39321145,  1.6157616 ,  6.22892693,\n",
              "        -1.80039239,  9.86500139, -6.30336281,  7.98261098, -2.97549811,\n",
              "        -1.12676253, -6.66706464, -5.61451521, -5.04982573, -7.32171424,\n",
              "         3.04497343, -1.68185051, -3.63828635, -2.40986992,  9.06959634,\n",
              "         7.31049973, -0.15413088,  1.43055872,  8.64388074, -6.62577231,\n",
              "        -8.8350743 ,  9.45903594,  8.41432618, -0.21430158,  0.13643352,\n",
              "         3.46866505, -1.48460494,  7.91788632,  9.69677737, -8.03622415,\n",
              "         5.95023005,  1.56747176, -7.49960565,  5.23156595,  9.27554542,\n",
              "        -1.86602853, -1.98513663,  1.49415303, -4.0747011 , -4.88449302,\n",
              "        -9.7308579 ,  8.9420176 , -1.66639854, -7.99677388, -7.30259441,\n",
              "         6.90878842, -0.3653909 ,  2.29971977, -4.81208671,  6.69475747,\n",
              "         4.65161515, -7.78453743, -6.0319367 ,  2.21145238,  1.5363567 ,\n",
              "        -8.88841356,  6.68344993, -6.29275849, -8.07748397, -1.5897472 ,\n",
              "         4.01926232, -3.02134884,  0.66844496,  5.09552959,  6.49188281,\n",
              "         6.00236759,  3.78527729, -2.28261108, -2.11344979,  8.73538716,\n",
              "         5.57063587, -8.68040255, -9.4149124 ,  0.52229383,  5.19113856,\n",
              "        -7.17615352, -0.15823434,  9.67477385, -8.09073708,  1.42398371,\n",
              "         1.97715946,  8.25825155,  9.66204004,  8.93239424, -6.46147112],\n",
              "       [-0.55547665, -1.13280028, -3.39694177, -5.98539785,  2.94894587,\n",
              "        -2.94591585,  0.38989619,  9.54291398,  7.46922836, -4.87923725,\n",
              "         7.01673023, -4.24503379, -8.11717634,  3.33295775, -6.97167077,\n",
              "        -7.39565197, -6.03472716,  5.29531937,  5.2961223 , -9.62190359,\n",
              "         3.62975493, -9.07749669, -0.23694595,  5.13337002,  8.29955717,\n",
              "        -7.74644869,  1.35480283,  6.19259883, -5.77396935,  2.16298102,\n",
              "         3.4410053 , -7.26395522,  8.41886755, -6.39464633,  3.18456775,\n",
              "        -7.98897451, -3.64633034,  3.83818437, -1.41504858, -6.30258462,\n",
              "         4.14649915, -2.78528812, -9.06060572, -6.51516422, -4.08946228,\n",
              "         2.10105057,  6.60045658, -8.05644697, -7.86617235, -2.16309521,\n",
              "        -7.27084596,  4.44520189, -3.18275486,  8.57190781,  0.24544408,\n",
              "        -1.30606855,  2.61156166,  1.62721968, -7.04265437, -2.47825278,\n",
              "         4.6983939 , -6.65665294, -0.35715021,  7.70191737, -7.35595264,\n",
              "         5.90433943,  3.49027403,  6.29831814, -6.79119879,  9.77884512,\n",
              "        -1.31730652, -0.51151548, -5.66797102, -3.90757498,  2.20947047,\n",
              "         6.52756272, -5.03564962,  6.28434929,  1.79800287, -6.16935932,\n",
              "        -8.61053155,  3.89609765,  1.81555063, -2.79614164,  5.23594505,\n",
              "         7.47006734,  0.25310963, -2.24928764,  1.98654577, -1.79003405,\n",
              "        -5.59061955, -6.07373505,  7.66196721,  2.23800161,  7.57867588,\n",
              "         5.77530369, -3.64061097,  1.61226807, -4.54805093,  6.03471211]])"
            ]
          },
          "metadata": {},
          "execution_count": 33
        }
      ]
    },
    {
      "cell_type": "code",
      "source": [
        "# 4. Calcular la función de coste\n",
        "\n",
        "def vector_Lambda(Theta, matriz_X, Y): # Theta es el vector cuyos elementos son los parametros theta_i\n",
        "\n",
        "    vector_predictor = Theta @ matriz_X\n",
        "    Lambda = vector_predictor - Y\n",
        "\n",
        "    return Lambda\n",
        "\n",
        "\n",
        "\n",
        "def funcion_costo(Theta):\n",
        "\n",
        "    Lambda = vector_Lambda(Theta, matriz_X, y) # vector_Lambda se creó en el inciso 2 de este laboratorio\n",
        "    m = y.shape[0]\n",
        "\n",
        "    costo = (Lambda**2).sum()/(2*m)\n",
        "\n",
        "    return costo\n",
        "\n",
        "\n",
        "costo = funcion_costo(Theta)\n",
        "print(f\"El costo con los parametros aleatorios Theta es: {costo}\")"
      ],
      "metadata": {
        "colab": {
          "base_uri": "https://localhost:8080/"
        },
        "id": "epPf8yrlkMM8",
        "outputId": "676ae478-a9db-4c4b-e213-a6ec2ddfc5dd"
      },
      "execution_count": 34,
      "outputs": [
        {
          "output_type": "stream",
          "name": "stdout",
          "text": [
            "El costo con los parametros aleatorios Theta es: 234.79276569962374\n"
          ]
        }
      ]
    },
    {
      "cell_type": "code",
      "source": [
        "# 5. Aplicar el gradiente descendente\n",
        "# 6. Iterar para encontrar los valores  Θ  que se ajustan el plano.\n",
        "\n",
        "# Ambos incisos se hicieron en esta celda de codigo\n",
        "\n",
        "from autograd import grad\n",
        "from IPython.display import Markdown\n",
        "\n",
        "def descenso_gradiente(funcion, Theta_inicial, alpha_inicial, error): # Devuelve un minimo de la funcion que se le pasa por argumento. Theta inicial es el primer array de la iteración del algorimo del descenso del gradiente, alpha_inicial es el learning rate inicial que se le pasa al algoritmo (puede cambiar durante la ejecución), y error es la maxima distancia permitida entre el array que arroja la función y el minimo real\n",
        "\n",
        "    Theta_i = Theta_inicial.astype(float)\n",
        "    alpha = alpha_inicial\n",
        "    gradiente = grad(funcion) # Calcula el gradiente de la función que se le pasa por parametro\n",
        "\n",
        "    magnitud_cambio = np.linalg.norm(alpha*gradiente(Theta_i)) # Norma de la diferencia entre Theta_{i+1} (Theta_siguiente) y Theta_i. Esto es la norma del cambio entre las iteraciones del algoritmo\n",
        "\n",
        "    contador = 0\n",
        "    cambio_direccion = False # Nos dice si el gradiente cambió de dirección durante el algoritmo\n",
        "\n",
        "    while magnitud_cambio > error or cambio_direccion == False: # Si ambas condiciones se cumplen, nos aseguramos de que Theta tenga el error deseado\n",
        "\n",
        "        Theta_siguiente = Theta_i - alpha * gradiente(Theta_i)\n",
        "        magnitud_cambio = np.linalg.norm(alpha * gradiente(Theta_siguiente) )\n",
        "\n",
        "        if gradiente(Theta_i) @ gradiente(Theta_siguiente) < 0: # Cuando el gradiente cambia de dirección disminuimos alpha a la mitad\n",
        "            cambio_direccion = True\n",
        "            alpha = alpha/2\n",
        "\n",
        "        if contador == 10 and cambio_direccion == False: # Si el gradiente se demora demasiado en cambiar de dirección, duplicamos alpha\n",
        "            alpha = 2*alpha\n",
        "            contador = 0\n",
        "\n",
        "        Theta_i = Theta_siguiente\n",
        "        contador = contador + 1\n",
        "\n",
        "    return Theta_i\n",
        "\n",
        "\n",
        "Theta = descenso_gradiente(funcion_costo, Theta, 0.1, 1e-10)\n",
        "\n",
        "texto_markdown = f\"El valor de $\\\\theta_0$ que minimiza el costo es: {Theta[0]}<br>\"\n",
        "texto_markdown += f\"El valor de $\\\\theta_1$ que minimiza el costo es: {Theta[1]}<br>\"\n",
        "texto_markdown += f\"El valor de $\\\\theta_2$ que minimiza el costo es: {Theta[2]}<br><br>\"\n",
        "texto_markdown += f\"Como podemos ver, estos valores se acercan mucho a 0, 2.1 y -3.1 respectivamente, tal y como se esperaba\"\n",
        "\n",
        "Markdown(texto_markdown)"
      ],
      "metadata": {
        "colab": {
          "base_uri": "https://localhost:8080/",
          "height": 129
        },
        "id": "NfeZREPek9bA",
        "outputId": "319c3bdd-afdb-4309-b258-363ee089afa3"
      },
      "execution_count": 35,
      "outputs": [
        {
          "output_type": "execute_result",
          "data": {
            "text/plain": [
              "<IPython.core.display.Markdown object>"
            ],
            "text/markdown": "El valor de $\\theta_0$ que minimiza el costo es: 3.9708025680878356e-09<br>El valor de $\\theta_1$ que minimiza el costo es: 2.09999999997292<br>El valor de $\\theta_2$ que minimiza el costo es: -3.09999999995153<br><br>Como podemos ver, estos valores se acercan mucho a 0, 2.1 y -3.1 respectivamente, tal y como se esperaba"
          },
          "metadata": {},
          "execution_count": 35
        }
      ]
    }
  ],
  "metadata": {
    "colab": {
      "provenance": []
    },
    "kernelspec": {
      "display_name": "Python 3 (ipykernel)",
      "language": "python",
      "name": "python3"
    },
    "language_info": {
      "codemirror_mode": {
        "name": "ipython",
        "version": 3
      },
      "file_extension": ".py",
      "mimetype": "text/x-python",
      "name": "python",
      "nbconvert_exporter": "python",
      "pygments_lexer": "ipython3",
      "version": "3.10.9"
    }
  },
  "nbformat": 4,
  "nbformat_minor": 0
}