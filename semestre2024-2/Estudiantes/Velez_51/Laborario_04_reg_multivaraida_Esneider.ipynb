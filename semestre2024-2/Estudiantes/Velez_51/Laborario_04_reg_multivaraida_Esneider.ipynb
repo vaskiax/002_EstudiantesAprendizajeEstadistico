{
  "cells": [
    {
      "cell_type": "markdown",
      "metadata": {
        "id": "6DFACqAfCoKB"
      },
      "source": [
        "<a href=\"https://colab.research.google.com/github/CienciaDatosUdea/002_EstudiantesAprendizajeEstadistico/blob/main/semestre2024-2/Laboratorios/Laboratorio_04_reg_multivariada.ipynb\" target=\"_parent\"><img src=\"https://colab.research.google.com/assets/colab-badge.svg\" alt=\"Open In Colab\"/></a>\n"
      ]
    },
    {
      "cell_type": "markdown",
      "metadata": {
        "id": "qiRIfl4W2cLM"
      },
      "source": [
        "# Regresion multivariada\n",
        "\n",
        "Supongamos que tenemos un conjunto de caracteristicas $X = X_1,X_2...X_j...X_n$ para realizar una  predicción $y$ con valores esperados $\\hat{y}$.  \n",
        "\n",
        "Cada X, puede ser escrito como:\n",
        " $X_1 = x_1^{(1)},x_1^{(2)}, x_1^{(3)}...x_1^{(m)}$,\n",
        "\n",
        " $X_2 = x_2^{(1)},x_2^{(2)}, x_2^{(3)}...x_2^{(m)}$,\n",
        "\n",
        " .\n",
        "\n",
        " .\n",
        "\n",
        " .\n",
        "\n",
        " $X_n = x_n^{(1)},x_n^{(2)}, x_n^{(3)}...x_n^{(m)}$.\n",
        "\n",
        "\n",
        "Siendo n el número de caracteristicas y m el número de datos de datos,\n",
        "$\\hat{y} = \\hat{y}_1^{(1)}, \\hat{y}_1^{(2)}...\\hat{y}_1^{(m)} $, el conjunto de datos etiquetados  y $y = y_1^{(1)}, y_1^{(2)}...y_1^{(m)} $ los valores predichos por un modelo\n",
        "\n",
        "\n",
        "\n",
        "\n",
        "Lo anterior puede ser resumido  como:\n",
        "\n",
        "\n",
        "\n",
        "|Training|$\\hat{y}$      | X_1  | X_2  |  .  | .|. |. | X_n|\n",
        "|--------|-------|------|------|-----|--|--|--|----|\n",
        "|1|$\\hat{y}_1^{1}$ | $x_1^{1}$|$x_2^{1}$| .  | .|. |. | $x_n^{1}$|\n",
        "|2|$\\hat{y}_1^{2}$ | $x_1^{2}$|$x_2^{2}$| .  | .|. |. | $x_n^{2}$|\n",
        "|.|.         | .        |.| .  | .|. |. | |\n",
        "|.|.         | .        |.| .  | .|. |. | |\n",
        "|.|.         | .        |.| .  | .|. |. | |\n",
        "|m|$\\hat{y}_1^{m}$ | $x_1^{m}$  |$x_2^{m}$| .  | .|. |. | $x_n^{m}$|\n",
        "\n",
        "\n",
        "y el el modelo puede ser ajustado como sigue:\n",
        "\n",
        "Para un solo conjunto de datos de entrenamiento tentemos que:\n",
        "\n",
        "$y = h(\\theta_0,\\theta_1,\\theta_2,...,\\theta_n ) = \\theta_0 + \\theta_1 x_1+\\theta_2 x_2 + \\theta_3 x_3 +...+ \\theta_n x_n $.\n",
        "\n",
        "\\begin{equation}\n",
        "h_{\\Theta}(x) = [\\theta_0,\\theta_1,...,\\theta_n ]\\begin{bmatrix}\n",
        "1^{(1)}\\\\\n",
        "x_1^{(1)}\\\\\n",
        "x_2^{(1)}\\\\\n",
        ".\\\\\n",
        ".\\\\\n",
        ".\\\\\n",
        "x_n^{(1)}\\\\\n",
        "\\end{bmatrix} = \\Theta^T X^{(1)}\n",
        "\\end{equation}\n",
        "\n",
        "\n",
        "\n",
        "Para todo el conjunto de datos, tenemos que:\n",
        "\n",
        "Sea $\\Theta^T = [\\theta_0,\\theta_1,\\theta_2,...,\\theta_n]$ una matrix $1 \\times (n+1)$ y  \n",
        "\n",
        "\n",
        "\\begin{equation}\n",
        "X =\n",
        "\\begin{bmatrix}\n",
        "1& 1 & 1 & .&.&.&1\\\\\n",
        "x_1^{(1)}&x_1^{(2)} & x_1^{(3)} & .&.&.&x_1^{(m)}\\\\\n",
        ".&. & . &.&.&.& .\\\\\n",
        ".&. & . & .&.&.&.\\\\\n",
        ".&. & . & .&.&.&.\\\\\n",
        "x_n^{(1)}&x_n^{(2)} & x^{(3)} & .&.&.&x_n^{(m)}\\\\\n",
        "\\end{bmatrix}_{(n+1) \\times m}\n",
        "\\end{equation}\n",
        "\n",
        "\n",
        "\n",
        "\n",
        "luego $h = \\Theta^{T} X $ con dimension $1\\times m$\n",
        "\n",
        "\n",
        "\n",
        "\n",
        "La anterior ecuación, es un hiperplano en $\\mathbb{R}^n$. Notese que en caso de tener una sola característica, la ecuación puede ser análizada según lo visto en la sesión de regresion lineal.\n",
        "\n",
        "\n",
        "Para la optimización, vamos a definir la función de coste **$J(\\theta_1,\\theta_2,\\theta_3, ...,\\theta_n )$** , como la función  asociada a la minima distancia entre dos puntos, según la metrica euclidiana.\n",
        "\n",
        "- Metrica Eculidiana\n",
        "\n",
        "\\begin{equation}\n",
        "J(\\theta_1,\\theta_2,\\theta_3, ...,\\theta_n )=\\frac{1}{2m} \\sum_{i=1}^m ( h_{\\Theta} (X)-\\hat{y}^{(i)})^2 =\\frac{1}{2m} \\sum_{i = 1}^m (\\Theta^{T} X - \\hat{y}^{(i)})^2\n",
        "\\end{equation}\n",
        "\n",
        "Otras métricas pueden ser definidas como sigue en la siguiente referencia.  [Metricas](https://jmlb.github.io/flashcards/2018/04/21/list_cost_functions_fo_neuralnets/).\n",
        "\n",
        "Nuestro objetivo será encontrar los valores mínimos\n",
        "$\\Theta = \\theta_0,\\theta_1,\\theta_2,...,\\theta_n$ que minimizan el error, respecto a los valores etiquetados y esperados $\\hat{y}$\n",
        "\n",
        "\n",
        "Para encontrar $\\Theta$ opmitimo, se necesita  minimizar la función de coste, que permite obtener los valores más cercanos,  esta minimización podrá ser realizada a través de diferentes metodos, el más conocido es el gradiente descendente.\n",
        "\n",
        "\n",
        "\n",
        "\n",
        "\n"
      ]
    },
    {
      "cell_type": "markdown",
      "metadata": {
        "id": "E5ApulK23HfL"
      },
      "source": [
        "\n",
        "## Gradiente descendente\n",
        "\n",
        "Consideremos la función de coste sin realizar el promedio  de funcion de coste:\n",
        "\\begin{equation}\n",
        "\\Lambda^T =\n",
        "\\begin{bmatrix}\n",
        "(\\theta_0 1 + \\theta_1 x_1^1+\\theta_2 x_2^2 + \\theta_3 x_3^3 +...+ \\theta_n x_n^n - \\hat{y}^{1})^2 \\\\\n",
        "(\\theta_0 1+ \\theta_1 x_1^1+\\theta_2 x_2^2 + \\theta_3 x_3^3 +...+ \\theta_n x_n^n - \\hat{y}^{2})^2\\\\\n",
        ".\\\\\n",
        ".\\\\\n",
        ".\\\\\n",
        "(\\theta_0 1 + \\theta_1 x_1^m+\\theta_2 x_2^m + \\theta_3 x_3^m +...+ \\theta_n x_n^m - \\hat{y}^{m})^2\\\\\n",
        "\\end{bmatrix}\n",
        "\\end{equation}\n",
        "\n",
        "$\\Lambda= [\\Lambda_1,\\Lambda_2, ...,\\Lambda_m]$\n",
        "\n",
        "$J = \\frac{1}{2m} \\sum_{i}^m \\Lambda_i $\n",
        "\n",
        "El gradiente descente, puede ser escrito como:\n",
        "\n",
        "\\begin{equation}\n",
        "\\Delta \\vec{\\Theta} =  - \\alpha \\nabla J(\\theta_0, \\theta_1,...,\\theta_n)\n",
        "\\end{equation}\n",
        "\n",
        "escogiendo el valor j-esimo tenemos que:\n",
        "\n",
        "\\begin{equation}\n",
        "\\theta_j :=  - \\alpha \\frac{\\partial J(\\theta_0, \\theta_1,...\\theta_j...,\\theta_n)}{\\partial \\theta_j}\n",
        "\\end{equation}\n",
        "\n",
        "Aplicando lo anterior a a funcion de coste asociada a la metrica ecuclidiana, tenemos que:\n",
        "\n",
        "Para $j = 0$,\n",
        "\n",
        "\n",
        "\\begin{equation}\n",
        "\\theta_0 :=  - \\alpha \\frac{\\partial J(\\theta_0, \\theta_1,...\\theta_j...,\\theta_n)}{\\partial \\theta_0} = \\frac{1}{m}\\alpha \\sum_{i=1}^m (\\theta_j X_{ji} - \\hat{y}^{(i)}) 1\n",
        "\\end{equation}\n",
        "\n",
        "\n",
        "\n",
        "Para $0<j<n $\n",
        "\n",
        "\\begin{equation}\n",
        "\\theta_j :=  - \\alpha \\frac{\\partial J(\\theta_0, \\theta_1,...\\theta_j...,\\theta_n)}{\\partial \\theta_j} = \\frac{1}{m} \\alpha\\sum_{i=1}^m (\\theta_{j} X_{ji} - \\hat{y}^{(i)}) X_j\n",
        "\\end{equation}\n",
        "\n",
        "donde X_j es el vector de entrenamiento j-esimo.\n",
        "\n",
        "Lo  anterior puede ser generalizado como siguem, teniendo presente que $X_0 = \\vec{1}$\n",
        "\n",
        "\n",
        "Para $0\\leq j<n$,\n",
        "\n",
        "\\begin{equation}\n",
        "\\theta_j :=  - \\alpha \\frac{\\partial J(\\theta_0, \\theta_1,...\\theta_j...,\\theta_n)}{\\partial \\theta_j} = \\frac{1}{m} \\alpha\\sum_{i=1}^m (\\theta_j X_{ji} - \\hat{y}^{(i)}) X_j\n",
        "\\end{equation}\n",
        "\n",
        "\n",
        "\n",
        "# Vectorizando el grandiente descendete, tenemos que:\n",
        "\\begin{equation}\n",
        "\\nabla J = \\Lambda^T X\n",
        "\\end{equation}\n",
        "\n",
        "Luego:\n",
        "\n",
        "\\begin{equation}\n",
        "\\Theta=\\Theta-\\alpha \\nabla J\n",
        "\\end{equation}\n"
      ]
    },
    {
      "cell_type": "markdown",
      "metadata": {
        "id": "7eavd6K24VDP"
      },
      "source": [
        "# Laboratorio 05\n",
        "Objetivo: Programar una regresión multivariada\n",
        "\n",
        "\n",
        "1. Para simular un conjunto de características $x_1$ , $x_2$,..., $x_n$ trabajaremos en la primera parte con dos características de datos aleatorios que presentan un plano y mostraremos que los párametros optimizados se corresponden con el valor esperado.\n",
        "\n",
        "- Definir la ecuación  $y = 2.1*x_1 - 3.1*x_2$, y generar números aleatorios que pertenecen al plano.\n",
        "\n",
        "- Realizar un diagrama 3D de los puntos generados aleatoriamente.\n",
        "\n",
        "\n",
        "Nuestro objetivo será encontrar los valores $\\theta_0 = 0, \\theta_1=2.1, \\theta_1=3.1$ que mejor ajustar el plano, empleando cálculos vectorizados.\n",
        "\n",
        "2. Inicializar conjunto de parámetros $\\Theta$ de manera aleatoria.\n",
        "3. Construir la matrix X con dimensiones $(n+1, m)$, m es el numero de datos de entrenamiento y (n) el número de caracteristicas.\n",
        "4. Calcular la función de coste(revise cuidosamente las dimensiones de cada matriz):\n",
        "\n",
        "  - $h = \\Theta^{T} X $\n",
        "  - $\\Lambda= (h -Y) $\n",
        "  - $\\Lambda*= (h -Y)^2 $\n",
        "  - $\\Lambda= [\\Lambda_1,\\Lambda_2, ...,\\Lambda_m]$\n",
        "  - $J = \\frac{1}{2m} \\sum_{i}^m \\Lambda_i $\n",
        "\n",
        "5. Aplicar el gradiente descendente:\n",
        "  - Encontrar el gradiente.\n",
        "    $\\nabla J = \\Lambda X.T$\n",
        "  \n",
        "  - Actualizar los nuevos parametros:\n",
        "    $\\Theta_{n+1}=\\Theta_{n}-\\alpha\\nabla J$\n",
        "\n",
        "\n",
        "6. Iterar para encontrar los valores $\\Theta$ que se ajustan el plano.\n",
        "\n",
        "\n",
        "\n",
        "\n",
        "\n",
        "\n"
      ]
    },
    {
      "cell_type": "markdown",
      "source": [
        "#Solución"
      ],
      "metadata": {
        "id": "gSpO9jHOnnmD"
      }
    },
    {
      "cell_type": "markdown",
      "source": [
        "1."
      ],
      "metadata": {
        "id": "nPkX7HlCnufJ"
      }
    },
    {
      "cell_type": "code",
      "source": [
        "import numpy as np\n",
        "import pandas as pd\n",
        "import matplotlib.pyplot as plt\n",
        "from mpl_toolkits.mplot3d import Axes3D"
      ],
      "metadata": {
        "id": "JIUc_XqMseex"
      },
      "execution_count": null,
      "outputs": []
    },
    {
      "cell_type": "code",
      "source": [
        "N=100\n",
        "alpha=0.01"
      ],
      "metadata": {
        "id": "q1yRMYY34IAy"
      },
      "execution_count": null,
      "outputs": []
    },
    {
      "cell_type": "code",
      "execution_count": null,
      "metadata": {
        "id": "9OriGxD33w_f"
      },
      "outputs": [],
      "source": [
        "data={}\n",
        "y=lambda x1,x2: 2.1*x1-3.1*x2\n",
        "data['x1']=np.random.rand(N)\n",
        "data['x2']=np.random.rand(N)\n",
        "data['y']=[y(x1,x2) for x1,x2 in zip(data['x1'],data['x2'])]"
      ]
    },
    {
      "cell_type": "code",
      "source": [
        "df=pd.DataFrame(data)\n",
        "df.head()"
      ],
      "metadata": {
        "colab": {
          "base_uri": "https://localhost:8080/",
          "height": 206
        },
        "id": "pU9Hc4JBsb8Y",
        "outputId": "c265338d-3dc7-4b65-9628-1af54a54547f"
      },
      "execution_count": null,
      "outputs": [
        {
          "output_type": "execute_result",
          "data": {
            "text/plain": [
              "         x1        x2         y\n",
              "0  0.756562  0.437354  0.232981\n",
              "1  0.721198  0.502558 -0.043414\n",
              "2  0.140650  0.406754 -0.965571\n",
              "3  0.023582  0.008103  0.024403\n",
              "4  0.891127  0.685571 -0.253902"
            ],
            "text/html": [
              "\n",
              "  <div id=\"df-e342202e-01fd-4e2d-8218-dfdd1d77cff7\" class=\"colab-df-container\">\n",
              "    <div>\n",
              "<style scoped>\n",
              "    .dataframe tbody tr th:only-of-type {\n",
              "        vertical-align: middle;\n",
              "    }\n",
              "\n",
              "    .dataframe tbody tr th {\n",
              "        vertical-align: top;\n",
              "    }\n",
              "\n",
              "    .dataframe thead th {\n",
              "        text-align: right;\n",
              "    }\n",
              "</style>\n",
              "<table border=\"1\" class=\"dataframe\">\n",
              "  <thead>\n",
              "    <tr style=\"text-align: right;\">\n",
              "      <th></th>\n",
              "      <th>x1</th>\n",
              "      <th>x2</th>\n",
              "      <th>y</th>\n",
              "    </tr>\n",
              "  </thead>\n",
              "  <tbody>\n",
              "    <tr>\n",
              "      <th>0</th>\n",
              "      <td>0.756562</td>\n",
              "      <td>0.437354</td>\n",
              "      <td>0.232981</td>\n",
              "    </tr>\n",
              "    <tr>\n",
              "      <th>1</th>\n",
              "      <td>0.721198</td>\n",
              "      <td>0.502558</td>\n",
              "      <td>-0.043414</td>\n",
              "    </tr>\n",
              "    <tr>\n",
              "      <th>2</th>\n",
              "      <td>0.140650</td>\n",
              "      <td>0.406754</td>\n",
              "      <td>-0.965571</td>\n",
              "    </tr>\n",
              "    <tr>\n",
              "      <th>3</th>\n",
              "      <td>0.023582</td>\n",
              "      <td>0.008103</td>\n",
              "      <td>0.024403</td>\n",
              "    </tr>\n",
              "    <tr>\n",
              "      <th>4</th>\n",
              "      <td>0.891127</td>\n",
              "      <td>0.685571</td>\n",
              "      <td>-0.253902</td>\n",
              "    </tr>\n",
              "  </tbody>\n",
              "</table>\n",
              "</div>\n",
              "    <div class=\"colab-df-buttons\">\n",
              "\n",
              "  <div class=\"colab-df-container\">\n",
              "    <button class=\"colab-df-convert\" onclick=\"convertToInteractive('df-e342202e-01fd-4e2d-8218-dfdd1d77cff7')\"\n",
              "            title=\"Convert this dataframe to an interactive table.\"\n",
              "            style=\"display:none;\">\n",
              "\n",
              "  <svg xmlns=\"http://www.w3.org/2000/svg\" height=\"24px\" viewBox=\"0 -960 960 960\">\n",
              "    <path d=\"M120-120v-720h720v720H120Zm60-500h600v-160H180v160Zm220 220h160v-160H400v160Zm0 220h160v-160H400v160ZM180-400h160v-160H180v160Zm440 0h160v-160H620v160ZM180-180h160v-160H180v160Zm440 0h160v-160H620v160Z\"/>\n",
              "  </svg>\n",
              "    </button>\n",
              "\n",
              "  <style>\n",
              "    .colab-df-container {\n",
              "      display:flex;\n",
              "      gap: 12px;\n",
              "    }\n",
              "\n",
              "    .colab-df-convert {\n",
              "      background-color: #E8F0FE;\n",
              "      border: none;\n",
              "      border-radius: 50%;\n",
              "      cursor: pointer;\n",
              "      display: none;\n",
              "      fill: #1967D2;\n",
              "      height: 32px;\n",
              "      padding: 0 0 0 0;\n",
              "      width: 32px;\n",
              "    }\n",
              "\n",
              "    .colab-df-convert:hover {\n",
              "      background-color: #E2EBFA;\n",
              "      box-shadow: 0px 1px 2px rgba(60, 64, 67, 0.3), 0px 1px 3px 1px rgba(60, 64, 67, 0.15);\n",
              "      fill: #174EA6;\n",
              "    }\n",
              "\n",
              "    .colab-df-buttons div {\n",
              "      margin-bottom: 4px;\n",
              "    }\n",
              "\n",
              "    [theme=dark] .colab-df-convert {\n",
              "      background-color: #3B4455;\n",
              "      fill: #D2E3FC;\n",
              "    }\n",
              "\n",
              "    [theme=dark] .colab-df-convert:hover {\n",
              "      background-color: #434B5C;\n",
              "      box-shadow: 0px 1px 3px 1px rgba(0, 0, 0, 0.15);\n",
              "      filter: drop-shadow(0px 1px 2px rgba(0, 0, 0, 0.3));\n",
              "      fill: #FFFFFF;\n",
              "    }\n",
              "  </style>\n",
              "\n",
              "    <script>\n",
              "      const buttonEl =\n",
              "        document.querySelector('#df-e342202e-01fd-4e2d-8218-dfdd1d77cff7 button.colab-df-convert');\n",
              "      buttonEl.style.display =\n",
              "        google.colab.kernel.accessAllowed ? 'block' : 'none';\n",
              "\n",
              "      async function convertToInteractive(key) {\n",
              "        const element = document.querySelector('#df-e342202e-01fd-4e2d-8218-dfdd1d77cff7');\n",
              "        const dataTable =\n",
              "          await google.colab.kernel.invokeFunction('convertToInteractive',\n",
              "                                                    [key], {});\n",
              "        if (!dataTable) return;\n",
              "\n",
              "        const docLinkHtml = 'Like what you see? Visit the ' +\n",
              "          '<a target=\"_blank\" href=https://colab.research.google.com/notebooks/data_table.ipynb>data table notebook</a>'\n",
              "          + ' to learn more about interactive tables.';\n",
              "        element.innerHTML = '';\n",
              "        dataTable['output_type'] = 'display_data';\n",
              "        await google.colab.output.renderOutput(dataTable, element);\n",
              "        const docLink = document.createElement('div');\n",
              "        docLink.innerHTML = docLinkHtml;\n",
              "        element.appendChild(docLink);\n",
              "      }\n",
              "    </script>\n",
              "  </div>\n",
              "\n",
              "\n",
              "<div id=\"df-bc6286ac-cd7a-4e9d-ba97-2b58c1e35524\">\n",
              "  <button class=\"colab-df-quickchart\" onclick=\"quickchart('df-bc6286ac-cd7a-4e9d-ba97-2b58c1e35524')\"\n",
              "            title=\"Suggest charts\"\n",
              "            style=\"display:none;\">\n",
              "\n",
              "<svg xmlns=\"http://www.w3.org/2000/svg\" height=\"24px\"viewBox=\"0 0 24 24\"\n",
              "     width=\"24px\">\n",
              "    <g>\n",
              "        <path d=\"M19 3H5c-1.1 0-2 .9-2 2v14c0 1.1.9 2 2 2h14c1.1 0 2-.9 2-2V5c0-1.1-.9-2-2-2zM9 17H7v-7h2v7zm4 0h-2V7h2v10zm4 0h-2v-4h2v4z\"/>\n",
              "    </g>\n",
              "</svg>\n",
              "  </button>\n",
              "\n",
              "<style>\n",
              "  .colab-df-quickchart {\n",
              "      --bg-color: #E8F0FE;\n",
              "      --fill-color: #1967D2;\n",
              "      --hover-bg-color: #E2EBFA;\n",
              "      --hover-fill-color: #174EA6;\n",
              "      --disabled-fill-color: #AAA;\n",
              "      --disabled-bg-color: #DDD;\n",
              "  }\n",
              "\n",
              "  [theme=dark] .colab-df-quickchart {\n",
              "      --bg-color: #3B4455;\n",
              "      --fill-color: #D2E3FC;\n",
              "      --hover-bg-color: #434B5C;\n",
              "      --hover-fill-color: #FFFFFF;\n",
              "      --disabled-bg-color: #3B4455;\n",
              "      --disabled-fill-color: #666;\n",
              "  }\n",
              "\n",
              "  .colab-df-quickchart {\n",
              "    background-color: var(--bg-color);\n",
              "    border: none;\n",
              "    border-radius: 50%;\n",
              "    cursor: pointer;\n",
              "    display: none;\n",
              "    fill: var(--fill-color);\n",
              "    height: 32px;\n",
              "    padding: 0;\n",
              "    width: 32px;\n",
              "  }\n",
              "\n",
              "  .colab-df-quickchart:hover {\n",
              "    background-color: var(--hover-bg-color);\n",
              "    box-shadow: 0 1px 2px rgba(60, 64, 67, 0.3), 0 1px 3px 1px rgba(60, 64, 67, 0.15);\n",
              "    fill: var(--button-hover-fill-color);\n",
              "  }\n",
              "\n",
              "  .colab-df-quickchart-complete:disabled,\n",
              "  .colab-df-quickchart-complete:disabled:hover {\n",
              "    background-color: var(--disabled-bg-color);\n",
              "    fill: var(--disabled-fill-color);\n",
              "    box-shadow: none;\n",
              "  }\n",
              "\n",
              "  .colab-df-spinner {\n",
              "    border: 2px solid var(--fill-color);\n",
              "    border-color: transparent;\n",
              "    border-bottom-color: var(--fill-color);\n",
              "    animation:\n",
              "      spin 1s steps(1) infinite;\n",
              "  }\n",
              "\n",
              "  @keyframes spin {\n",
              "    0% {\n",
              "      border-color: transparent;\n",
              "      border-bottom-color: var(--fill-color);\n",
              "      border-left-color: var(--fill-color);\n",
              "    }\n",
              "    20% {\n",
              "      border-color: transparent;\n",
              "      border-left-color: var(--fill-color);\n",
              "      border-top-color: var(--fill-color);\n",
              "    }\n",
              "    30% {\n",
              "      border-color: transparent;\n",
              "      border-left-color: var(--fill-color);\n",
              "      border-top-color: var(--fill-color);\n",
              "      border-right-color: var(--fill-color);\n",
              "    }\n",
              "    40% {\n",
              "      border-color: transparent;\n",
              "      border-right-color: var(--fill-color);\n",
              "      border-top-color: var(--fill-color);\n",
              "    }\n",
              "    60% {\n",
              "      border-color: transparent;\n",
              "      border-right-color: var(--fill-color);\n",
              "    }\n",
              "    80% {\n",
              "      border-color: transparent;\n",
              "      border-right-color: var(--fill-color);\n",
              "      border-bottom-color: var(--fill-color);\n",
              "    }\n",
              "    90% {\n",
              "      border-color: transparent;\n",
              "      border-bottom-color: var(--fill-color);\n",
              "    }\n",
              "  }\n",
              "</style>\n",
              "\n",
              "  <script>\n",
              "    async function quickchart(key) {\n",
              "      const quickchartButtonEl =\n",
              "        document.querySelector('#' + key + ' button');\n",
              "      quickchartButtonEl.disabled = true;  // To prevent multiple clicks.\n",
              "      quickchartButtonEl.classList.add('colab-df-spinner');\n",
              "      try {\n",
              "        const charts = await google.colab.kernel.invokeFunction(\n",
              "            'suggestCharts', [key], {});\n",
              "      } catch (error) {\n",
              "        console.error('Error during call to suggestCharts:', error);\n",
              "      }\n",
              "      quickchartButtonEl.classList.remove('colab-df-spinner');\n",
              "      quickchartButtonEl.classList.add('colab-df-quickchart-complete');\n",
              "    }\n",
              "    (() => {\n",
              "      let quickchartButtonEl =\n",
              "        document.querySelector('#df-bc6286ac-cd7a-4e9d-ba97-2b58c1e35524 button');\n",
              "      quickchartButtonEl.style.display =\n",
              "        google.colab.kernel.accessAllowed ? 'block' : 'none';\n",
              "    })();\n",
              "  </script>\n",
              "</div>\n",
              "\n",
              "    </div>\n",
              "  </div>\n"
            ],
            "application/vnd.google.colaboratory.intrinsic+json": {
              "type": "dataframe",
              "variable_name": "df",
              "summary": "{\n  \"name\": \"df\",\n  \"rows\": 100,\n  \"fields\": [\n    {\n      \"column\": \"x1\",\n      \"properties\": {\n        \"dtype\": \"number\",\n        \"std\": 0.30754347398550264,\n        \"min\": 0.0235819354192065,\n        \"max\": 0.9973088834822748,\n        \"num_unique_values\": 100,\n        \"samples\": [\n          0.4745581939376321,\n          0.839873971263126,\n          0.5867175456736422\n        ],\n        \"semantic_type\": \"\",\n        \"description\": \"\"\n      }\n    },\n    {\n      \"column\": \"x2\",\n      \"properties\": {\n        \"dtype\": \"number\",\n        \"std\": 0.3002140702351438,\n        \"min\": 0.00810287638522078,\n        \"max\": 0.9963143643200302,\n        \"num_unique_values\": 100,\n        \"samples\": [\n          0.18543499863963064,\n          0.9081898578368949,\n          0.11075277929301308\n        ],\n        \"semantic_type\": \"\",\n        \"description\": \"\"\n      }\n    },\n    {\n      \"column\": \"y\",\n      \"properties\": {\n        \"dtype\": \"number\",\n        \"std\": 1.1391705375902073,\n        \"min\": -2.7706282978650387,\n        \"max\": 1.9201368069235458,\n        \"num_unique_values\": 100,\n        \"samples\": [\n          0.4217237114861724,\n          -1.0516532196418096,\n          0.8887732301063082\n        ],\n        \"semantic_type\": \"\",\n        \"description\": \"\"\n      }\n    }\n  ]\n}"
            }
          },
          "metadata": {},
          "execution_count": 13
        }
      ]
    },
    {
      "cell_type": "code",
      "source": [
        "fig = plt.figure()\n",
        "ax = fig.add_subplot(111, projection='3d')\n",
        "\n",
        "ax.scatter(df['x1'], df['x2'], df['y'])\n",
        "\n",
        "ax.set_xlabel('x1')\n",
        "ax.set_ylabel('x2')\n",
        "ax.set_zlabel('y')\n",
        "\n",
        "plt.show()"
      ],
      "metadata": {
        "colab": {
          "base_uri": "https://localhost:8080/",
          "height": 415
        },
        "id": "4a6GH3zUszE5",
        "outputId": "7b3d53bc-518e-4c49-dda0-3bcd33455a69"
      },
      "execution_count": null,
      "outputs": [
        {
          "output_type": "display_data",
          "data": {
            "text/plain": [
              "<Figure size 640x480 with 1 Axes>"
            ],
            "image/png": "[encoded data removed]"
          },
          "metadata": {}
        }
      ]
    },
    {
      "cell_type": "markdown",
      "source": [
        "2."
      ],
      "metadata": {
        "id": "CA9ay2s-tIdf"
      }
    },
    {
      "cell_type": "code",
      "source": [
        "params=np.array([np.random.rand() for i in range(3)])\n",
        "print(params)"
      ],
      "metadata": {
        "colab": {
          "base_uri": "https://localhost:8080/"
        },
        "id": "W4Ej9VyiszwK",
        "outputId": "07112ceb-d326-4f99-a6c0-85de875d36f0"
      },
      "execution_count": null,
      "outputs": [
        {
          "output_type": "stream",
          "name": "stdout",
          "text": [
            "[0.05309266 0.32426883 0.77416639]\n"
          ]
        }
      ]
    },
    {
      "cell_type": "markdown",
      "source": [
        "3."
      ],
      "metadata": {
        "id": "XQUquSCJtURe"
      }
    },
    {
      "cell_type": "code",
      "source": [
        "X=np.zeros((3,N))\n",
        "X[0,:]=1\n",
        "X[1,:]=df['x1']\n",
        "X[2,:]=df['x2']"
      ],
      "metadata": {
        "id": "54kexbLitQyC"
      },
      "execution_count": null,
      "outputs": []
    },
    {
      "cell_type": "code",
      "source": [
        "X"
      ],
      "metadata": {
        "colab": {
          "base_uri": "https://localhost:8080/"
        },
        "id": "ivMbEPOwxvF7",
        "outputId": "9ae6e0ae-5eb3-4567-85c5-16534fb2e2a7"
      },
      "execution_count": null,
      "outputs": [
        {
          "output_type": "execute_result",
          "data": {
            "text/plain": [
              "array([[1.        , 1.        , 1.        , 1.        , 1.        ,\n",
              "        1.        , 1.        , 1.        , 1.        , 1.        ,\n",
              "        1.        , 1.        , 1.        , 1.        , 1.        ,\n",
              "        1.        , 1.        , 1.        , 1.        , 1.        ,\n",
              "        1.        , 1.        , 1.        , 1.        , 1.        ,\n",
              "        1.        , 1.        , 1.        , 1.        , 1.        ,\n",
              "        1.        , 1.        , 1.        , 1.        , 1.        ,\n",
              "        1.        , 1.        , 1.        , 1.        , 1.        ,\n",
              "        1.        , 1.        , 1.        , 1.        , 1.        ,\n",
              "        1.        , 1.        , 1.        , 1.        , 1.        ,\n",
              "        1.        , 1.        , 1.        , 1.        , 1.        ,\n",
              "        1.        , 1.        , 1.        , 1.        , 1.        ,\n",
              "        1.        , 1.        , 1.        , 1.        , 1.        ,\n",
              "        1.        , 1.        , 1.        , 1.        , 1.        ,\n",
              "        1.        , 1.        , 1.        , 1.        , 1.        ,\n",
              "        1.        , 1.        , 1.        , 1.        , 1.        ,\n",
              "        1.        , 1.        , 1.        , 1.        , 1.        ,\n",
              "        1.        , 1.        , 1.        , 1.        , 1.        ,\n",
              "        1.        , 1.        , 1.        , 1.        , 1.        ,\n",
              "        1.        , 1.        , 1.        , 1.        , 1.        ],\n",
              "       [0.75656177, 0.72119769, 0.14065004, 0.02358194, 0.89112721,\n",
              "        0.99730888, 0.10322066, 0.08413318, 0.57369472, 0.8694898 ,\n",
              "        0.48399694, 0.0930134 , 0.90137045, 0.02711466, 0.16539825,\n",
              "        0.9037577 , 0.82006334, 0.5121709 , 0.89518604, 0.69447036,\n",
              "        0.30708954, 0.94892548, 0.82051954, 0.03709783, 0.95852338,\n",
              "        0.71909578, 0.53739442, 0.27129922, 0.4154188 , 0.25161708,\n",
              "        0.5647011 , 0.75742597, 0.90301584, 0.84994088, 0.61488442,\n",
              "        0.04615993, 0.72807176, 0.2534724 , 0.96665459, 0.89986778,\n",
              "        0.69695972, 0.84442498, 0.61495621, 0.57729871, 0.28327939,\n",
              "        0.04673622, 0.49444341, 0.41623466, 0.98138888, 0.36394969,\n",
              "        0.25466724, 0.85131476, 0.52740999, 0.83987397, 0.96231787,\n",
              "        0.40142679, 0.95664965, 0.11945411, 0.51513537, 0.8846071 ,\n",
              "        0.87100341, 0.9021013 , 0.04701756, 0.65823457, 0.72970593,\n",
              "        0.90131767, 0.70914445, 0.91474723, 0.44575179, 0.19428916,\n",
              "        0.58671755, 0.92001107, 0.95759157, 0.31564795, 0.27125789,\n",
              "        0.57511234, 0.484163  , 0.14645252, 0.24249639, 0.9642339 ,\n",
              "        0.22745675, 0.41999377, 0.10556224, 0.47455819, 0.81105324,\n",
              "        0.56436055, 0.57505061, 0.12564541, 0.43800258, 0.21938137,\n",
              "        0.2719315 , 0.47306224, 0.63431934, 0.85459887, 0.3719428 ,\n",
              "        0.05311176, 0.08552238, 0.30935664, 0.96584757, 0.35863328],\n",
              "       [0.43735431, 0.50255765, 0.40675362, 0.00810288, 0.68557064,\n",
              "        0.55392715, 0.13321733, 0.81226867, 0.7832641 , 0.35961609,\n",
              "        0.66619489, 0.12464974, 0.34146027, 0.70837291, 0.81463768,\n",
              "        0.55078741, 0.62150304, 0.23133329, 0.68950272, 0.70869751,\n",
              "        0.21687923, 0.08672328, 0.1279105 , 0.30467638, 0.23741122,\n",
              "        0.42951178, 0.31179962, 0.31373981, 0.18920358, 0.98152237,\n",
              "        0.94464843, 0.40628012, 0.78110365, 0.81016679, 0.99631436,\n",
              "        0.6583589 , 0.34774805, 0.68471967, 0.30413442, 0.28358008,\n",
              "        0.1473602 , 0.12404946, 0.98385327, 0.87674486, 0.45743766,\n",
              "        0.0977265 , 0.62227298, 0.23584826, 0.94044341, 0.51694084,\n",
              "        0.88644425, 0.33141394, 0.04459518, 0.90818986, 0.12544146,\n",
              "        0.13065616, 0.99227981, 0.97467159, 0.76781625, 0.64172857,\n",
              "        0.49130042, 0.06504172, 0.08394836, 0.19896994, 0.72922723,\n",
              "        0.33336217, 0.53469661, 0.68041837, 0.06666468, 0.62615959,\n",
              "        0.11075278, 0.54837968, 0.02929209, 0.63041035, 0.69914626,\n",
              "        0.53571102, 0.58449387, 0.09945079, 0.91911685, 0.08514888,\n",
              "        0.08118355, 0.10557615, 0.95291956, 0.185435  , 0.18070238,\n",
              "        0.17221538, 0.94831208, 0.07789619, 0.27164607, 0.77127836,\n",
              "        0.17948459, 0.55711323, 0.10974471, 0.45486532, 0.88259478,\n",
              "        0.81931164, 0.20933961, 0.26707339, 0.52005311, 0.61460368]])"
            ]
          },
          "metadata": {},
          "execution_count": 17
        }
      ]
    },
    {
      "cell_type": "markdown",
      "source": [
        "4."
      ],
      "metadata": {
        "id": "S3NyXKY5zCwf"
      }
    },
    {
      "cell_type": "code",
      "source": [
        "h=np.dot(params.T,X)\n",
        "print(h.shape)\n",
        "print(h)"
      ],
      "metadata": {
        "colab": {
          "base_uri": "https://localhost:8080/"
        },
        "id": "pd7OW3btxwKU",
        "outputId": "6e39db3c-3d6e-4a5b-ebb1-fa555a4c1f62"
      },
      "execution_count": null,
      "outputs": [
        {
          "output_type": "stream",
          "name": "stdout",
          "text": [
            "(100,)\n",
            "[0.63700706 0.67601783 0.41359606 0.06701252 0.87280318 0.80532062\n",
            " 0.18969628 0.70920553 0.84550071 0.61344379 0.72578347 0.17975364\n",
            " 0.60972607 0.6102836  0.73739127 0.77255421 0.8001604  0.39826417\n",
            " 0.87716343 0.82693754 0.32057283 0.42793787 0.41818558 0.30099254\n",
            " 0.5477077  0.61878659 0.4687377  0.38395336 0.33427508 0.89454586\n",
            " 0.96752269 0.61323071 0.95061674 0.9559059  1.02379361 0.57774022\n",
            " 0.55839848 0.66537281 0.60199926 0.5644299  0.39317629 0.42294828\n",
            " 1.01416992 0.91903904 0.4990842  0.14390432 0.69516807 0.37065038\n",
            " 1.09938616 0.57130842 0.82192866 0.58571703 0.25863937 1.02852767\n",
            " 0.46225491 0.28441246 1.131494   0.84638589 0.81455254 0.83674786\n",
            " 0.71588019 0.39596911 0.13332898 0.42057345 0.85425676 0.60343967\n",
            " 0.69699024 0.87647371 0.24924562 0.60084629 0.32908795 0.77596069\n",
            " 0.38628671 0.64348996 0.68230867 0.65431313 0.66258714 0.1775741\n",
            " 0.84327606 0.43168306 0.18969936 0.27101705 0.8250415  0.35053463\n",
            " 0.45598565 0.36942056 0.97371499 0.15414016 0.4054225  0.72132898\n",
            " 0.2802225  0.63779034 0.34374331 0.68235388 0.85697733 0.70459869\n",
            " 0.24288859 0.36016661 0.76889456 0.64519177]\n"
          ]
        }
      ]
    },
    {
      "cell_type": "code",
      "source": [
        "Lam=h-df['y']\n",
        "print(Lam.shape)\n",
        "print(Lam)"
      ],
      "metadata": {
        "colab": {
          "base_uri": "https://localhost:8080/"
        },
        "id": "h9tadkKHzT5b",
        "outputId": "42850767-6d8a-4d50-a12e-59fc30f8eea5"
      },
      "execution_count": null,
      "outputs": [
        {
          "output_type": "stream",
          "name": "stdout",
          "text": [
            "(100,)\n",
            "0     0.404026\n",
            "1     0.719431\n",
            "2     1.379167\n",
            "3     0.042609\n",
            "4     1.126705\n",
            "        ...   \n",
            "95    3.132930\n",
            "96    0.712244\n",
            "97    0.538445\n",
            "98    0.352779\n",
            "99    1.797333\n",
            "Name: y, Length: 100, dtype: float64\n"
          ]
        }
      ]
    },
    {
      "cell_type": "code",
      "source": [
        "Lam_sq=np.power(Lam,2)\n",
        "print(Lam_sq.shape)\n",
        "print(Lam_sq)"
      ],
      "metadata": {
        "colab": {
          "base_uri": "https://localhost:8080/"
        },
        "id": "IUiJ4AVtzqfU",
        "outputId": "4ca5a8b6-0fce-4181-9e3c-d68901c1411f"
      },
      "execution_count": null,
      "outputs": [
        {
          "output_type": "stream",
          "name": "stdout",
          "text": [
            "(100,)\n",
            "0     0.163237\n",
            "1     0.517582\n",
            "2     1.902102\n",
            "3     0.001816\n",
            "4     1.269464\n",
            "        ...   \n",
            "95    9.815251\n",
            "96    0.507292\n",
            "97    0.289923\n",
            "98    0.124453\n",
            "99    3.230407\n",
            "Name: y, Length: 100, dtype: float64\n"
          ]
        }
      ]
    },
    {
      "cell_type": "code",
      "source": [
        "J=np.sum(Lam_sq)/(2*N)\n",
        "print(J)"
      ],
      "metadata": {
        "colab": {
          "base_uri": "https://localhost:8080/"
        },
        "id": "V_cSgc1N0D78",
        "outputId": "937dd01f-0d41-43b5-f87e-be54dd82948e"
      },
      "execution_count": null,
      "outputs": [
        {
          "output_type": "stream",
          "name": "stdout",
          "text": [
            "1.2304434353745173\n"
          ]
        }
      ]
    },
    {
      "cell_type": "code",
      "source": [
        "delta_J=np.dot(Lam,X.T)\n",
        "print(delta_J)"
      ],
      "metadata": {
        "colab": {
          "base_uri": "https://localhost:8080/"
        },
        "id": "mhTv2fOd14a1",
        "outputId": "818cdece-17b6-4952-cdd6-ee49eecf3d3e"
      },
      "execution_count": null,
      "outputs": [
        {
          "output_type": "stream",
          "name": "stdout",
          "text": [
            "[90.07055832 31.87065133 76.89404135]\n"
          ]
        }
      ]
    },
    {
      "cell_type": "code",
      "source": [
        "params-=alpha*delta_J\n",
        "print(params)"
      ],
      "metadata": {
        "colab": {
          "base_uri": "https://localhost:8080/"
        },
        "id": "o5qD527N3yWb",
        "outputId": "08efc2d3-6c3a-4324-95fa-1f6fd16bcc7b"
      },
      "execution_count": null,
      "outputs": [
        {
          "output_type": "stream",
          "name": "stdout",
          "text": [
            "[-0.84761293  0.00556232  0.00522598]\n"
          ]
        }
      ]
    },
    {
      "cell_type": "markdown",
      "source": [
        "6."
      ],
      "metadata": {
        "id": "8HrHJJ0z4Rvx"
      }
    },
    {
      "cell_type": "code",
      "source": [
        "def reg_mult(N,M,data_x,data_y, TOL):\n",
        "  X=np.zeros((N+1,M))\n",
        "  X[0,:]=1\n",
        "  columns=data_x.columns\n",
        "  params=np.array([np.random.rand() for i in range(N+1)])\n",
        "  J=1\n",
        "  for i,col in enumerate(columns,1):\n",
        "    X[i,:]=data_x[col]\n",
        "  while J>TOL:\n",
        "    h=np.dot(params.T,X)\n",
        "    Lam=h-data_y\n",
        "    Lam_sq=np.power(Lam,2)\n",
        "    J=np.sum(Lam_sq)/(2*M)\n",
        "    delta_J=np.dot(Lam,X.T)\n",
        "    params-=alpha*delta_J\n",
        "  return params\n",
        "\n",
        "\n",
        "\n",
        "\n"
      ],
      "metadata": {
        "id": "AMKPs-2G4SS9"
      },
      "execution_count": 37,
      "outputs": []
    },
    {
      "cell_type": "code",
      "source": [
        "print(reg_mult(2,100,df[['x1','x2']],df['y'],1e-6))"
      ],
      "metadata": {
        "colab": {
          "base_uri": "https://localhost:8080/"
        },
        "id": "vMos5em0FivR",
        "outputId": "2c1ba9fe-1d84-4f30-b19d-334f7b2e6706"
      },
      "execution_count": 40,
      "outputs": [
        {
          "output_type": "stream",
          "name": "stdout",
          "text": [
            "[-1.38235001e-03  2.09894349e+00 -3.09598195e+00]\n"
          ]
        }
      ]
    },
    {
      "cell_type": "markdown",
      "source": [
        "Los parámetros obtenidos son $\\theta_{0}=-1.38235001e-03$, $\\theta_{1}=2.09894349$ y $\\theta_{2}=-3.09598195$ acorde a lo esperado."
      ],
      "metadata": {
        "id": "wLKqBusbHx-Y"
      }
    },
    {
      "cell_type": "code",
      "source": [],
      "metadata": {
        "id": "ndaxHqsaFp9w"
      },
      "execution_count": null,
      "outputs": []
    }
  ],
  "metadata": {
    "colab": {
      "provenance": []
    },
    "kernelspec": {
      "display_name": "Python 3 (ipykernel)",
      "language": "python",
      "name": "python3"
    },
    "language_info": {
      "codemirror_mode": {
        "name": "ipython",
        "version": 3
      },
      "file_extension": ".py",
      "mimetype": "text/x-python",
      "name": "python",
      "nbconvert_exporter": "python",
      "pygments_lexer": "ipython3",
      "version": "3.10.9"
    }
  },
  "nbformat": 4,
  "nbformat_minor": 0
}