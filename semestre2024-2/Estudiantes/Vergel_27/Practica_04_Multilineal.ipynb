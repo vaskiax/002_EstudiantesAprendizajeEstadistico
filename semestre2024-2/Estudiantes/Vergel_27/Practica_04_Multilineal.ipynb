{
 "cells": [
  {
   "cell_type": "code",
   "execution_count": 1,
   "metadata": {},
   "outputs": [],
   "source": [
    "import numpy as np\n",
    "import pandas as pd\n",
    "import matplotlib.pyplot as plt\n",
    "\n",
    "N = 100\n",
    "x_1 = 2 * np.random.random(N) - 1\n",
    "x_2 = 2 * np.random.random(N) - 1\n",
    "\n",
    "y_label = 0.2 * x_1 - 0.5 * x_2 #+ 0.2*(2*np.random.random(N)-1)\n",
    "df = pd.DataFrame({\"x1\":x_1, \"x2\":x_2, \"y\":y_label})\n",
    "df[\"ones\"]=1"
   ]
  },
  {
   "cell_type": "code",
   "execution_count": 2,
   "metadata": {},
   "outputs": [],
   "source": [
    "X = df[[\"ones\", \"x1\", \"x2\"]].values.T\n",
    "Y = df.y.values.reshape(1, N)"
   ]
  },
  {
   "cell_type": "code",
   "execution_count": 3,
   "metadata": {},
   "outputs": [
    {
     "name": "stdout",
     "output_type": "stream",
     "text": [
      "3 100\n"
     ]
    }
   ],
   "source": [
    "Nfeatures = np.shape(X)[0]\n",
    "m = np.shape(X)[1]\n",
    "print(Nfeatures, m)"
   ]
  },
  {
   "cell_type": "code",
   "execution_count": 4,
   "metadata": {},
   "outputs": [],
   "source": [
    "def model(theta, X):\n",
    "  return theta.T@X\n",
    "\n",
    "def costo(h, Y):\n",
    "  J= (h-Y)**2\n",
    "  return J.mean()\n",
    "\n",
    "def update_params(learning_rate):\n",
    "  \"\"\"\n",
    "  Gradiente descendente\n",
    "  \"\"\"\n",
    "  grad = np.dot((h-Y), X.T).T\n",
    "  theta = theta - learning_rate*grad\n",
    "  return theta\n"
   ]
  },
  {
   "cell_type": "code",
   "execution_count": 5,
   "metadata": {},
   "outputs": [],
   "source": [
    "theta=np.random.random(3).reshape(3, 1)\n",
    "h = model(theta, X)\n",
    "J = costo(h, Y)\n"
   ]
  },
  {
   "cell_type": "code",
   "execution_count": 6,
   "metadata": {},
   "outputs": [],
   "source": [
    "grad=np.dot((h-Y), X.T)\n",
    "learning_rate=0.001\n",
    "theta = theta-learning_rate*grad.T"
   ]
  },
  {
   "cell_type": "code",
   "execution_count": 7,
   "metadata": {},
   "outputs": [
    {
     "data": {
      "text/plain": [
       "array([[0.80461899],\n",
       "       [0.37076033],\n",
       "       [0.66095231]])"
      ]
     },
     "execution_count": 7,
     "metadata": {},
     "output_type": "execute_result"
    }
   ],
   "source": [
    "theta"
   ]
  },
  {
   "cell_type": "markdown",
   "metadata": {},
   "source": [
    "## POO"
   ]
  },
  {
   "cell_type": "code",
   "execution_count": 21,
   "metadata": {},
   "outputs": [],
   "source": [
    "class MultilinealRegresion():\n",
    "    def __init__(self, X, Y):\n",
    "        self.X = X\n",
    "        self.Y = Y\n",
    "        Nfeatures = np.shape(X)[0]\n",
    "        m = np.shape(X)[1]\n",
    "        self.theta = np.random.random(Nfeatures).reshape(Nfeatures, 1)\n",
    "\n",
    "    def model(self):\n",
    "        self.h = self.theta.T@self.X\n",
    "    \n",
    "    def costo(self):\n",
    "        self.J = (self.h-self.Y)**2\n",
    "        return self.J.mean()\n",
    "    \n",
    "    def update_params(self, learning_rate):\n",
    "        \"\"\"\n",
    "        Gradiente descendente\n",
    "        \"\"\"\n",
    "        grad = np.dot((self.h-self.Y), self.X.T).T\n",
    "        self.theta = self.theta - learning_rate*grad\n",
    "        return self.theta\n",
    "\n",
    "    def fit(self, learning_rate):\n",
    "        for i in range(0,100):\n",
    "            self.model()\n",
    "            self.costo()\n",
    "            self.update_params(learning_rate)"
   ]
  },
  {
   "cell_type": "code",
   "execution_count": 22,
   "metadata": {},
   "outputs": [],
   "source": [
    "lr=MultilinealRegresion(X, Y)"
   ]
  },
  {
   "cell_type": "code",
   "execution_count": 23,
   "metadata": {},
   "outputs": [
    {
     "data": {
      "text/plain": [
       "0.46320083267702367"
      ]
     },
     "execution_count": 23,
     "metadata": {},
     "output_type": "execute_result"
    }
   ],
   "source": [
    "lr.model()\n",
    "lr.costo()"
   ]
  },
  {
   "cell_type": "code",
   "execution_count": 24,
   "metadata": {},
   "outputs": [],
   "source": [
    "lr.fit(0.01)"
   ]
  },
  {
   "cell_type": "code",
   "execution_count": 25,
   "metadata": {},
   "outputs": [
    {
     "data": {
      "text/plain": [
       "array([[-6.59559493e-18],\n",
       "       [ 2.00000000e-01],\n",
       "       [-5.00000000e-01]])"
      ]
     },
     "execution_count": 25,
     "metadata": {},
     "output_type": "execute_result"
    }
   ],
   "source": [
    "lr.theta"
   ]
  },
  {
   "cell_type": "code",
   "execution_count": null,
   "metadata": {},
   "outputs": [],
   "source": []
  }
 ],
 "metadata": {
  "kernelspec": {
   "display_name": "base",
   "language": "python",
   "name": "python3"
  },
  "language_info": {
   "codemirror_mode": {
    "name": "ipython",
    "version": 3
   },
   "file_extension": ".py",
   "mimetype": "text/x-python",
   "name": "python",
   "nbconvert_exporter": "python",
   "pygments_lexer": "ipython3",
   "version": "3.9.7"
  }
 },
 "nbformat": 4,
 "nbformat_minor": 2
}
